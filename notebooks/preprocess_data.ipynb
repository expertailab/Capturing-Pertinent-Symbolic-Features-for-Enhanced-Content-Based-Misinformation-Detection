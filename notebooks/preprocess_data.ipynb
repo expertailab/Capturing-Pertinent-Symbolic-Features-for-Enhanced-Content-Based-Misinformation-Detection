{
 "cells": [
  {
   "attachments": {},
   "cell_type": "markdown",
   "metadata": {},
   "source": [
    "# Preprocess datasets"
   ]
  },
  {
   "cell_type": "code",
   "execution_count": 2,
   "metadata": {},
   "outputs": [
    {
     "name": "stderr",
     "output_type": "stream",
     "text": [
      "[nltk_data] Downloading package punkt to\n",
      "[nltk_data]     /home/flavio.merenda@EXPERT.AI/nltk_data...\n",
      "[nltk_data]   Package punkt is already up-to-date!\n"
     ]
    }
   ],
   "source": [
    "# Imports\n",
    "\n",
    "import os\n",
    "import re\n",
    "import json\n",
    "import nltk\n",
    "import spacy\n",
    "import random\n",
    "import pandas as pd\n",
    "import numpy as np\n",
    "\n",
    "from bs4 import BeautifulSoup\n",
    "from nltk import word_tokenize\n",
    "from os import listdir\n",
    "from os.path import isfile, join\n",
    "from tqdm import tqdm\n",
    "from nltk.corpus import stopwords\n",
    "\n",
    "nltk.download('punkt')\n",
    "\n",
    "\n",
    "# Constants\n",
    "\n",
    "RAW_DATA_PATH = \"../data/raw/\"\n",
    "PREPROCESSED_DATA_PATH = \"../data/processed/\""
   ]
  },
  {
   "cell_type": "markdown",
   "metadata": {},
   "source": [
    "## Webis"
   ]
  },
  {
   "cell_type": "code",
   "execution_count": null,
   "metadata": {},
   "outputs": [],
   "source": [
    "def load_webis(annotation_path, articles_path):\n",
    "    # overview: XML,portal,orientation,veracity,url\n",
    "    annotation_df = pd.read_csv(annotation_path)\n",
    "    webis_data = []\n",
    "    for _, anno in annotation_df.iterrows():\n",
    "        # read xml file\n",
    "        article = {}\n",
    "        article['id'] = anno['XML']\n",
    "        article['portal'] = anno['portal']\n",
    "        article['political_orientation'] = anno['orientation']\n",
    "        article['veracity_label'] = anno['veracity']\n",
    "        with open(\"{}/{}\".format(articles_path, anno['XML'])) as fp:\n",
    "            xml = BeautifulSoup(fp)\n",
    "\n",
    "            article['text'] = xml.find('maintext').text.encode('utf8').decode('utf8')\n",
    "            article['author'] = xml.find('author').text\n",
    "            article['title'] = xml.find('title').text\n",
    "        webis_data += article,\n",
    "\n",
    "    return webis_data"
   ]
  },
  {
   "cell_type": "code",
   "execution_count": null,
   "metadata": {},
   "outputs": [],
   "source": [
    "def filter_short_webis(data):\n",
    "    return [data for data in data if len(word_tokenize(data['text'])) >= 5]"
   ]
  },
  {
   "cell_type": "code",
   "execution_count": null,
   "metadata": {},
   "outputs": [],
   "source": [
    "webis_annotation = os.path.join(RAW_DATA_PATH, 'webis/overview.csv')\n",
    "webis_article_path = os.path.join(RAW_DATA_PATH, 'webis/articles')\n",
    "webis_articles = load_webis(webis_annotation, webis_article_path)\n",
    "filtered_webis_articles = filter_short_webis(webis_articles)"
   ]
  },
  {
   "cell_type": "code",
   "execution_count": null,
   "metadata": {},
   "outputs": [],
   "source": [
    "webis_df = pd.DataFrame.from_records(filtered_webis_articles)\n",
    "webis_df.shape"
   ]
  },
  {
   "cell_type": "code",
   "execution_count": null,
   "metadata": {},
   "outputs": [],
   "source": [
    "# create a list of our conditions\n",
    "conditions = [\n",
    "    (webis_df[\"veracity_label\"] == \"mostly true\"),\n",
    "    (webis_df[\"veracity_label\"] != \"mostly true\")\n",
    "]\n",
    "\n",
    "# create a list of the values we want to assign for each condition\n",
    "values = [\"true\", \"fake\"]\n",
    "\n",
    "webis_df[\"labels\"] = np.select(conditions, values)\n",
    "preprocessed_webis_df = webis_df[[\"text\", \"labels\"]]\n",
    "preprocessed_webis_df.shape"
   ]
  },
  {
   "cell_type": "code",
   "execution_count": null,
   "metadata": {},
   "outputs": [],
   "source": [
    "preprocessed_webis_df.head()"
   ]
  },
  {
   "cell_type": "code",
   "execution_count": null,
   "metadata": {},
   "outputs": [],
   "source": [
    "preprocessed_webis_df[\"labels\"].hist()"
   ]
  },
  {
   "cell_type": "code",
   "execution_count": null,
   "metadata": {},
   "outputs": [],
   "source": [
    "preprocessed_webis_df.to_csv(f\"{PREPROCESSED_DATA_PATH}webis.csv\", index=False, header=True)"
   ]
  },
  {
   "attachments": {},
   "cell_type": "markdown",
   "metadata": {},
   "source": [
    "## Basil"
   ]
  },
  {
   "cell_type": "code",
   "execution_count": null,
   "metadata": {},
   "outputs": [],
   "source": [
    "BASIL_PATH = f\"{RAW_DATA_PATH}basil/emnlp19-media-bias-master/emnlp19-BASIL/data/\""
   ]
  },
  {
   "cell_type": "code",
   "execution_count": null,
   "metadata": {},
   "outputs": [],
   "source": [
    "f_names = [f_name for f_name in listdir(BASIL_PATH) if isfile(join(BASIL_PATH, f_name))]\n",
    "\n",
    "nlp = spacy.load(\"en_core_web_sm\")\n",
    "\n",
    "ent2text = {\n",
    "    \"PERSON\": \"person\",\n",
    "    \"NORP\": \"group\",\n",
    "    \"FAC\": \"facilities\",\n",
    "    \"ORG\": \"organizations\",\n",
    "    \"GPE\": \"country\",\n",
    "    \"LOC\": \"location\",\n",
    "    \"PRODUCT\": \"product\",\n",
    "    \"EVENT\": \"event\",\n",
    "    \"WORK_OF_ART\": \"art\",\n",
    "    \"LAW\": \"law\",\n",
    "    \"LANGUAGE\": \"language\",\n",
    "    \"DATE\": \"date\",\n",
    "    \"TIME\": \"time\",\n",
    "    \"PERCENT\": \"percentage\",\n",
    "    \"MONEY\": \"money\",\n",
    "    \"QUANTITY\": \"quantity\",\n",
    "    \"ORDINAL\": \"number\",\n",
    "    \"CARDINAL\": \"number\"\n",
    "}"
   ]
  },
  {
   "cell_type": "code",
   "execution_count": null,
   "metadata": {},
   "outputs": [],
   "source": [
    "def replace_ne_with_special_token(text, nlp):\n",
    "    doc = nlp(text)\n",
    "    ents = [(ent.text, ent.label_) for ent in doc.ents]\n",
    "    for ent in ents:\n",
    "        text = text.replace(ent[0], ent2text[ent[1]])\n",
    "    return text"
   ]
  },
  {
   "cell_type": "code",
   "execution_count": null,
   "metadata": {},
   "outputs": [],
   "source": [
    "# read all files and save as Array[ sentence objects ]\n",
    "all_sent_objs = []\n",
    "for name in tqdm(f_names, total=len(f_names)):\n",
    "    path = join(BASIL_PATH, name)\n",
    "    with open(path, 'r') as json_file:\n",
    "        data = json.load(json_file)\n",
    "\n",
    "        meta_obj = {'main-event': data['main-event'], 'title': data['title'], 'article_id': name}\n",
    "        for sent_obj in data['body']:\n",
    "            sent_obj.update(meta_obj)\n",
    "            sent_obj['ne_text'] = replace_ne_with_special_token(sent_obj['sentence'], nlp)\n",
    "\n",
    "            all_sent_objs.append(sent_obj)\n",
    "\n",
    "bias_type_basil = []\n",
    "for sent_obj in all_sent_objs:\n",
    "    # if there exists annotation for bias\n",
    "    anno_count = len(sent_obj['annotations'])\n",
    "    if anno_count == 0:\n",
    "        sent_obj['label'] = 'no-bias'\n",
    "    elif anno_count == 1:\n",
    "        sent_obj['label'] = sent_obj['annotations'][0]['bias']\n",
    "    elif anno_count > 1:\n",
    "        bias_type = list(set([anno['bias'] for anno in sent_obj['annotations']]))\n",
    "        if len(bias_type) == 1:\n",
    "            sent_obj['label'] = bias_type[0]\n",
    "        else:\n",
    "            sent_obj['label'] = \"both\"\n",
    "    bias_type_basil.append(sent_obj)"
   ]
  },
  {
   "cell_type": "code",
   "execution_count": null,
   "metadata": {},
   "outputs": [],
   "source": [
    "def filter_short_basil(data):\n",
    "    return [data for data in data if len(word_tokenize(data['sentence'])) >= 5]"
   ]
  },
  {
   "cell_type": "code",
   "execution_count": null,
   "metadata": {},
   "outputs": [],
   "source": [
    "filtered_basil = filter_short_basil(bias_type_basil)\n",
    "basil_df = pd.DataFrame.from_records(filtered_basil)\n",
    "basil_df.shape"
   ]
  },
  {
   "cell_type": "code",
   "execution_count": null,
   "metadata": {},
   "outputs": [],
   "source": [
    "# create a list of our conditions\n",
    "conditions = [\n",
    "    (basil_df[\"label\"] == \"no-bias\"),\n",
    "    (basil_df[\"label\"] != \"no-bias\")\n",
    "]\n",
    "\n",
    "# create a list of the values we want to assign for each condition\n",
    "values = [\"no-bias\", \"contains-bias\"]\n",
    "\n",
    "basil_df[\"labels\"] = np.select(conditions, values)\n",
    "basil_df.rename(columns = {\"sentence\": \"text\"}, inplace = True)\n",
    "preprocessed_basil_df = basil_df[[\"text\", \"labels\"]]\n",
    "preprocessed_basil_df.shape"
   ]
  },
  {
   "cell_type": "code",
   "execution_count": null,
   "metadata": {},
   "outputs": [],
   "source": [
    "preprocessed_basil_df.head()"
   ]
  },
  {
   "cell_type": "code",
   "execution_count": null,
   "metadata": {},
   "outputs": [],
   "source": [
    "preprocessed_basil_df[\"labels\"].hist()"
   ]
  },
  {
   "cell_type": "code",
   "execution_count": null,
   "metadata": {},
   "outputs": [],
   "source": [
    "preprocessed_basil_df.to_csv(f\"{PREPROCESSED_DATA_PATH}basil.csv\", index=False, header=True)"
   ]
  },
  {
   "attachments": {},
   "cell_type": "markdown",
   "metadata": {},
   "source": [
    "## Clickbait"
   ]
  },
  {
   "cell_type": "code",
   "execution_count": null,
   "metadata": {},
   "outputs": [],
   "source": [
    "TRUTH_PATH = f\"{RAW_DATA_PATH}clickbait/clickbait17-validation-170630/truth.jsonl\"\n",
    "INSTANCES_PATH = f\"{RAW_DATA_PATH}clickbait/clickbait17-validation-170630/instances.jsonl\""
   ]
  },
  {
   "cell_type": "code",
   "execution_count": null,
   "metadata": {},
   "outputs": [],
   "source": [
    "with open(TRUTH_PATH, 'r') as label_file:\n",
    "    label_list = [json.loads(item) for item in list(label_file)]\n",
    "    id2label_dict = {item['id']:item['truthClass'] for item in label_list}"
   ]
  },
  {
   "cell_type": "code",
   "execution_count": null,
   "metadata": {},
   "outputs": [],
   "source": [
    "with open(INSTANCES_PATH, 'r') as json_file:\n",
    "    data_list = [json.loads(item) for item in list(json_file)]"
   ]
  },
  {
   "cell_type": "code",
   "execution_count": null,
   "metadata": {},
   "outputs": [],
   "source": [
    "new_clickbait_data = []\n",
    "for data in data_list:\n",
    "    data['label'] = id2label_dict[data['id']]\n",
    "    new_clickbait_data.append(data)"
   ]
  },
  {
   "cell_type": "code",
   "execution_count": null,
   "metadata": {},
   "outputs": [],
   "source": [
    "def clean_txt(text,\n",
    "    remove_stopwords=False,\n",
    "    remove_nonalphanumeric=False,\n",
    "    use_number_special_token=False,\n",
    "    remove_numbers=False,\n",
    "    separate_contractions=False\n",
    "):\n",
    "\n",
    "    text = text.lower()\n",
    "    if separate_contractions:\n",
    "        text = re.sub(r\"\\'s\", \" \\'s\", text)\n",
    "        text = re.sub(r\"\\'ve\", \" \\'ve\", text)\n",
    "        text = re.sub(r\"n\\'t\", \" n\\'t\", text)\n",
    "        text = re.sub(r\"\\'re\", \" \\'re\", text)\n",
    "        text = re.sub(r\"\\'d\", \" \\'d\", text)\n",
    "        text = re.sub(r\"\\'ll\", \" \\'ll\", text)\n",
    "\n",
    "    text = re.sub(r\"-\", \" \", text)\n",
    "    text = re.sub(r\"[a-zA-Z]+\\/[a-zA-Z]+\", \" \", text)\n",
    "    text = re.sub(r\"\\n\", \" \", text)\n",
    "\n",
    "    if remove_nonalphanumeric:\n",
    "        text = re.sub(r'([^\\s\\w\\']|_)+', \" \", text)\n",
    "\n",
    "    if use_number_special_token:\n",
    "        text = re.sub(r\"[-+]?[.\\d]*[\\d]+[:,.\\d]*\", \"<number>\", text)\n",
    "    elif remove_numbers:\n",
    "        text = re.sub(r\"[-+]?[.\\d]*[\\d]+[:,.\\d]*\", \"\", text)\n",
    "\n",
    "    if remove_stopwords:\n",
    "        text = text.split()\n",
    "        stops = set(stopwords.words(\"english\"))\n",
    "        text = [w for w in text if w not in stops]\n",
    "        text = \" \".join(text)\n",
    "\n",
    "    # Remove URL\n",
    "    text = re.sub(r\"(http)\\S+\", \"\", text)\n",
    "    text = re.sub(r\"(www)\\S+\", \"\", text)\n",
    "    text = re.sub(r\"(href)\\S+\", \"\", text)\n",
    "    # Remove multiple spaces\n",
    "    text = re.sub(r\"[ \\s\\t\\n]+\", \" \", text)\n",
    "\n",
    "    # remove repetition\n",
    "    text = re.sub(r\"([!?.]){2,}\", r\"\\1\", text)\n",
    "    text = re.sub(r\"\\b(\\S*?)(.)\\2{2,}\\b\", r\"\\1\\2\", text)\n",
    "\n",
    "    return text.strip()"
   ]
  },
  {
   "cell_type": "code",
   "execution_count": null,
   "metadata": {},
   "outputs": [],
   "source": [
    "def filter_short_clickbait(data):\n",
    "    return [d for d in data if len(word_tokenize(clean_txt(\" \".join(d['postText'])))) >= 5]"
   ]
  },
  {
   "cell_type": "code",
   "execution_count": null,
   "metadata": {},
   "outputs": [],
   "source": [
    "filtered_clickbait_data = filter_short_clickbait(new_clickbait_data)"
   ]
  },
  {
   "cell_type": "code",
   "execution_count": null,
   "metadata": {},
   "outputs": [],
   "source": [
    "for row in tqdm(filtered_clickbait_data):\n",
    "    row.update({'postText': \" \".join(row['postText'])})"
   ]
  },
  {
   "cell_type": "code",
   "execution_count": null,
   "metadata": {},
   "outputs": [],
   "source": [
    "clickbait_df = pd.DataFrame.from_records(filtered_clickbait_data)\n",
    "clickbait_df.shape"
   ]
  },
  {
   "cell_type": "code",
   "execution_count": null,
   "metadata": {},
   "outputs": [],
   "source": [
    "clickbait_df"
   ]
  },
  {
   "cell_type": "code",
   "execution_count": null,
   "metadata": {},
   "outputs": [],
   "source": [
    "clickbait_df.rename(columns = {\"postText\": \"text\"}, inplace = True)\n",
    "clickbait_df.rename(columns = {\"label\": \"labels\"}, inplace = True)\n",
    "preprocessed_clickbait_df  = clickbait_df[[\"text\", \"labels\"]]"
   ]
  },
  {
   "cell_type": "code",
   "execution_count": null,
   "metadata": {},
   "outputs": [],
   "source": [
    "preprocessed_clickbait_df.head()"
   ]
  },
  {
   "cell_type": "code",
   "execution_count": null,
   "metadata": {},
   "outputs": [],
   "source": [
    "preprocessed_clickbait_df[\"labels\"].hist()"
   ]
  },
  {
   "cell_type": "code",
   "execution_count": null,
   "metadata": {},
   "outputs": [],
   "source": [
    "preprocessed_clickbait_df.to_csv(f\"{PREPROCESSED_DATA_PATH}clickbait.csv\", index=False, header=True)"
   ]
  },
  {
   "attachments": {},
   "cell_type": "markdown",
   "metadata": {},
   "source": [
    "## Pheme"
   ]
  },
  {
   "cell_type": "code",
   "execution_count": null,
   "metadata": {},
   "outputs": [],
   "source": [
    "PHEME_PATH = f\"{RAW_DATA_PATH}pheme/all-rnr-annotated-threads\""
   ]
  },
  {
   "cell_type": "code",
   "execution_count": null,
   "metadata": {},
   "outputs": [],
   "source": [
    "'''convertion code from PHEME creators. Label: True = rumour is true. False = rumour is false'''\n",
    "def convert_annotations(annotation, string = True):\n",
    "    if 'misinformation' in annotation.keys() and 'true'in annotation.keys():\n",
    "        if int(annotation['misinformation'])==0 and int(annotation['true'])==0:\n",
    "            if string:\n",
    "                label = \"unverified\"\n",
    "            else:\n",
    "                label = 2\n",
    "        elif int(annotation['misinformation'])==0 and int(annotation['true'])==1 :\n",
    "            if string:\n",
    "                label = \"true\"\n",
    "            else:\n",
    "                label = 1\n",
    "        elif int(annotation['misinformation'])==1 and int(annotation['true'])==0 :\n",
    "            if string:\n",
    "                label = \"false\"\n",
    "            else:\n",
    "                label = 0\n",
    "        elif int(annotation['misinformation'])==1 and int(annotation['true'])==1:\n",
    "            print (\"OMG! They both are 1!\")\n",
    "            print(annotation['misinformation'])\n",
    "            print(annotation['true'])\n",
    "            label = None\n",
    "            \n",
    "    elif 'misinformation' in annotation.keys() and 'true' not in annotation.keys():\n",
    "        # all instances have misinfo label but don't have true label\n",
    "        if int(annotation['misinformation'])==0:\n",
    "            if string:\n",
    "                label = \"unverified\"\n",
    "            else:\n",
    "                label = 2\n",
    "        elif int(annotation['misinformation'])==1:\n",
    "            if string:\n",
    "                label = \"false\"\n",
    "            else:\n",
    "                label = 0\n",
    "                \n",
    "    elif 'true' in annotation.keys() and 'misinformation' not in annotation.keys():\n",
    "        print ('Has true not misinformation')\n",
    "        label = None\n",
    "    else:\n",
    "        print('No annotations')\n",
    "        label = None\n",
    "           \n",
    "    return label"
   ]
  },
  {
   "cell_type": "code",
   "execution_count": null,
   "metadata": {},
   "outputs": [],
   "source": [
    "thread_info = {}\n",
    "events = [d for d in os.listdir(PHEME_PATH) if not d.startswith('.')]\n",
    "for event in tqdm(events):\n",
    "    threads = [d for d in os.listdir('{}/{}'.format(PHEME_PATH, event))]\n",
    "    print(event, len(threads))\n",
    "\n",
    "    rumour_threads = [d for d in os.listdir('{}/{}/rumours'.format(PHEME_PATH, event)) if not d.startswith('.')]\n",
    "    non_rumour_threads = [d for d in os.listdir('{}/{}/non-rumours'.format(PHEME_PATH, event))]\n",
    "\n",
    "    for r_id in rumour_threads:\n",
    "        # process lvl2 rumour veracity annotation (true, false, unverified rumour)\n",
    "        with open('{}/{}/rumours/{}/annotation.json'.format(PHEME_PATH, event, r_id)) as json_file:\n",
    "            # anno fields: links - evidences/information about the rumour. category - rumour type. \n",
    "            # misinfo & true lables are used to determine labels for each thread\n",
    "            anno = json.load(json_file)\n",
    "            veracity_label = convert_annotations(anno)\n",
    "            evidence_arr = anno['links']\n",
    "            rumour_category = anno['category'] # TODO check what this is later \n",
    "\n",
    "        # combine lvl1 rumour detection labels with lvl2 labels\n",
    "        thread_info[r_id] = {\n",
    "            'thread_id': r_id,\n",
    "            'rumour_label': 'rumour',\n",
    "            'veracity_label': veracity_label,\n",
    "            'evidence': evidence_arr,\n",
    "            'rumour_category': rumour_category\n",
    "        }\n",
    "\n",
    "    for r_id in non_rumour_threads:\n",
    "        # non-rumour doesn't have lvl2 annotation.\n",
    "        thread_info[r_id] = {'thread_id': r_id, 'rumour_label':'non-rumour'}\n",
    "    \n",
    "    event_name = event.split('-')[0]"
   ]
  },
  {
   "cell_type": "code",
   "execution_count": null,
   "metadata": {},
   "outputs": [],
   "source": [
    "def process_id2text(threads, lvl_1_path, id2text):\n",
    "    for r_id in threads:\n",
    "        # for each rumour_thead, there is ONE source-tweet, and MULTIPLE reations\n",
    "\n",
    "        # {base}/{event}/{rumours or non-rumour)}/{thread-id}/source-tweets/{rumour-id}.json\n",
    "        with open('{}/{}/{}/{}/source-tweets/{}.json'.format(PHEME_PATH, event, lvl_1_path, r_id, r_id)) as json_file:\n",
    "            tweet_json = json.load(json_file)\n",
    "            id2text[tweet_json['id_str']] = tweet_json['text']\n",
    "            \n",
    "        reaction_tweets = [d for d in os.listdir('{}/{}/{}/{}/reactions'.format(PHEME_PATH, event, lvl_1_path, r_id))\n",
    "                          if 'json' in d and not d.startswith('.')]\n",
    "        for r_tweet_id in reaction_tweets:\n",
    "            with open('{}/{}/{}/{}/reactions/{}'.format(PHEME_PATH, event, lvl_1_path, r_id, r_tweet_id)) as json_file:\n",
    "                tweet_json = json.load(json_file)\n",
    "                id2text[tweet_json['id_str']] = tweet_json['text']\n",
    "                \n",
    "    return id2text"
   ]
  },
  {
   "cell_type": "code",
   "execution_count": null,
   "metadata": {},
   "outputs": [],
   "source": [
    "events = [d for d in os.listdir(PHEME_PATH) if not d.startswith('.')]\n",
    "id2text = {}\n",
    "\n",
    "for event in tqdm(events):\n",
    "    threads = [d for d in os.listdir('{}/{}'.format(PHEME_PATH, event))]\n",
    "\n",
    "    rumour_threads = [d for d in os.listdir('{}/{}/rumours'.format(PHEME_PATH, event)) if not d.startswith('.')]\n",
    "    non_rumour_threads = [d for d in os.listdir('{}/{}/non-rumours'.format(PHEME_PATH, event)) if not d.startswith('.')]\n",
    "\n",
    "    id2text = process_id2text(rumour_threads, 'rumours', id2text)\n",
    "    id2text = process_id2text(non_rumour_threads, 'non-rumours', id2text)"
   ]
  },
  {
   "cell_type": "code",
   "execution_count": null,
   "metadata": {},
   "outputs": [],
   "source": [
    "rumour_data = [thread_info[key] for key in thread_info if thread_info[key]['rumour_label'] == 'rumour']\n",
    "\n",
    "# filter 'unverified'\n",
    "filtered_rumour_data = []\n",
    "for d in rumour_data:\n",
    "    if d['veracity_label'] == 'unverified':\n",
    "        continue\n",
    "    else:\n",
    "        filtered_rumour_data.append(d)"
   ]
  },
  {
   "cell_type": "code",
   "execution_count": null,
   "metadata": {},
   "outputs": [],
   "source": [
    "processed_rumor_data = [\n",
    "    {\n",
    "        \"tweet_id\": item['thread_id'],\n",
    "        \"text\": id2text[item['thread_id']],\n",
    "        \"labels\": item[\"veracity_label\"]\n",
    "    } for item in filtered_rumour_data\n",
    "]"
   ]
  },
  {
   "cell_type": "code",
   "execution_count": null,
   "metadata": {},
   "outputs": [],
   "source": [
    "pheme_df = pd.DataFrame.from_records(processed_rumor_data)\n",
    "pheme_df.shape"
   ]
  },
  {
   "cell_type": "code",
   "execution_count": null,
   "metadata": {},
   "outputs": [],
   "source": [
    "pheme_df"
   ]
  },
  {
   "cell_type": "code",
   "execution_count": null,
   "metadata": {},
   "outputs": [],
   "source": [
    "preprocessed_pheme_df  = pheme_df[[\"text\", \"labels\"]]\n",
    "preprocessed_pheme_df.head()"
   ]
  },
  {
   "cell_type": "code",
   "execution_count": null,
   "metadata": {},
   "outputs": [],
   "source": [
    "preprocessed_pheme_df[\"labels\"].hist()"
   ]
  },
  {
   "cell_type": "code",
   "execution_count": null,
   "metadata": {},
   "outputs": [],
   "source": [
    "preprocessed_pheme_df.to_csv(f\"{PREPROCESSED_DATA_PATH}pheme.csv\", index=False, header=True)"
   ]
  },
  {
   "cell_type": "markdown",
   "metadata": {},
   "source": [
    "## Polifact"
   ]
  },
  {
   "cell_type": "code",
   "execution_count": 18,
   "metadata": {},
   "outputs": [],
   "source": [
    "politifact_dir = '{}fakenewsnet/FakeNewsNetCleaned-master/Data/PolitiFact'.format(RAW_DATA_PATH)\n",
    "\n",
    "real_dir = '{}/RealNewsContent'.format(politifact_dir)\n",
    "fake_dir = '{}/FakeNewsContent'.format(politifact_dir)\n",
    "\n",
    "real_data, fake_data = [], []\n",
    "for file_path in [join(real_dir, f) for f in listdir(real_dir) if isfile(join(real_dir, f))]:\n",
    "    with open(file_path) as json_file:\n",
    "        obj = json.load(json_file)\n",
    "        obj['labels'] = 'real'\n",
    "        real_data.append(obj)\n",
    "\n",
    "for file_path in [join(fake_dir, f) for f in listdir(fake_dir) if isfile(join(fake_dir, f))]:\n",
    "    with open(file_path) as json_file:\n",
    "        obj = json.load(json_file)\n",
    "        obj['labels'] = 'fake'\n",
    "        fake_data.append(obj)\n",
    "\n",
    "all_data = fake_data + real_data\n",
    "np.random.shuffle(all_data)\n",
    "politifact_df = pd.DataFrame.from_dict(all_data)\n",
    "politifact_df = politifact_df[[\"text\", \"labels\"]]"
   ]
  },
  {
   "cell_type": "code",
   "execution_count": 19,
   "metadata": {},
   "outputs": [
    {
     "data": {
      "text/html": [
       "<div>\n",
       "<style scoped>\n",
       "    .dataframe tbody tr th:only-of-type {\n",
       "        vertical-align: middle;\n",
       "    }\n",
       "\n",
       "    .dataframe tbody tr th {\n",
       "        vertical-align: top;\n",
       "    }\n",
       "\n",
       "    .dataframe thead th {\n",
       "        text-align: right;\n",
       "    }\n",
       "</style>\n",
       "<table border=\"1\" class=\"dataframe\">\n",
       "  <thead>\n",
       "    <tr style=\"text-align: right;\">\n",
       "      <th></th>\n",
       "      <th>text</th>\n",
       "      <th>labels</th>\n",
       "    </tr>\n",
       "  </thead>\n",
       "  <tbody>\n",
       "    <tr>\n",
       "      <th>0</th>\n",
       "      <td>Detroit, MI | A Michigan elector, in a surge o...</td>\n",
       "      <td>fake</td>\n",
       "    </tr>\n",
       "    <tr>\n",
       "      <th>1</th>\n",
       "      <td>Police in Vernal Heights, Florida, arrested 3-...</td>\n",
       "      <td>fake</td>\n",
       "    </tr>\n",
       "    <tr>\n",
       "      <th>2</th>\n",
       "      <td>A highly regarded Texas law enforcement office...</td>\n",
       "      <td>fake</td>\n",
       "    </tr>\n",
       "    <tr>\n",
       "      <th>3</th>\n",
       "      <td>Need more proof that liberalism is a disease? ...</td>\n",
       "      <td>fake</td>\n",
       "    </tr>\n",
       "    <tr>\n",
       "      <th>4</th>\n",
       "      <td>COSTA MESA, Ca. – GOP presidential front-runne...</td>\n",
       "      <td>fake</td>\n",
       "    </tr>\n",
       "    <tr>\n",
       "      <th>...</th>\n",
       "      <td>...</td>\n",
       "      <td>...</td>\n",
       "    </tr>\n",
       "    <tr>\n",
       "      <th>198</th>\n",
       "      <td>A ninety-six-year-old World War II veteran and...</td>\n",
       "      <td>real</td>\n",
       "    </tr>\n",
       "    <tr>\n",
       "      <th>199</th>\n",
       "      <td>Gretchen Carlson is renewing her push for an A...</td>\n",
       "      <td>fake</td>\n",
       "    </tr>\n",
       "    <tr>\n",
       "      <th>200</th>\n",
       "      <td>As we promised, Freedom Crossroads has just le...</td>\n",
       "      <td>fake</td>\n",
       "    </tr>\n",
       "    <tr>\n",
       "      <th>201</th>\n",
       "      <td>According to guerilla:\\n\\nObama Canceled It, T...</td>\n",
       "      <td>fake</td>\n",
       "    </tr>\n",
       "    <tr>\n",
       "      <th>202</th>\n",
       "      <td>Early voting has begun in the battleground sta...</td>\n",
       "      <td>real</td>\n",
       "    </tr>\n",
       "  </tbody>\n",
       "</table>\n",
       "<p>203 rows × 2 columns</p>\n",
       "</div>"
      ],
      "text/plain": [
       "                                                  text labels\n",
       "0    Detroit, MI | A Michigan elector, in a surge o...   fake\n",
       "1    Police in Vernal Heights, Florida, arrested 3-...   fake\n",
       "2    A highly regarded Texas law enforcement office...   fake\n",
       "3    Need more proof that liberalism is a disease? ...   fake\n",
       "4    COSTA MESA, Ca. – GOP presidential front-runne...   fake\n",
       "..                                                 ...    ...\n",
       "198  A ninety-six-year-old World War II veteran and...   real\n",
       "199  Gretchen Carlson is renewing her push for an A...   fake\n",
       "200  As we promised, Freedom Crossroads has just le...   fake\n",
       "201  According to guerilla:\\n\\nObama Canceled It, T...   fake\n",
       "202  Early voting has begun in the battleground sta...   real\n",
       "\n",
       "[203 rows x 2 columns]"
      ]
     },
     "execution_count": 19,
     "metadata": {},
     "output_type": "execute_result"
    }
   ],
   "source": [
    "politifact_df"
   ]
  },
  {
   "cell_type": "code",
   "execution_count": 20,
   "metadata": {},
   "outputs": [
    {
     "data": {
      "text/plain": [
       "labels\n",
       "real    111\n",
       "fake     92\n",
       "Name: count, dtype: int64"
      ]
     },
     "execution_count": 20,
     "metadata": {},
     "output_type": "execute_result"
    }
   ],
   "source": [
    "politifact_df[\"labels\"].value_counts()"
   ]
  },
  {
   "cell_type": "code",
   "execution_count": null,
   "metadata": {},
   "outputs": [],
   "source": [
    "politifact_df[\"labels\"].hist()"
   ]
  },
  {
   "cell_type": "code",
   "execution_count": null,
   "metadata": {},
   "outputs": [],
   "source": [
    "politifact_df.to_csv(f\"{PREPROCESSED_DATA_PATH}politifact.csv\", index=False, header=True)"
   ]
  },
  {
   "cell_type": "markdown",
   "metadata": {},
   "source": [
    "## Buzzfeed"
   ]
  },
  {
   "cell_type": "code",
   "execution_count": 21,
   "metadata": {},
   "outputs": [],
   "source": [
    "buzzfeed_dir = '{}fakenewsnet/FakeNewsNetCleaned-master/Data/BuzzFeed'.format(RAW_DATA_PATH)\n",
    "\n",
    "real_dir = '{}/RealNewsContent'.format(buzzfeed_dir)\n",
    "fake_dir = '{}/FakeNewsContent'.format(buzzfeed_dir)\n",
    "\n",
    "real_data, fake_data = [], []\n",
    "for file_path in [join(real_dir, f) for f in listdir(real_dir) if isfile(join(real_dir, f))]:\n",
    "    with open(file_path) as json_file:\n",
    "        obj = json.load(json_file)\n",
    "        obj['labels'] = 'real'\n",
    "        real_data.append(obj)\n",
    "\n",
    "for file_path in [join(fake_dir, f) for f in listdir(fake_dir) if isfile(join(fake_dir, f))]:\n",
    "    with open(file_path) as json_file:\n",
    "        obj = json.load(json_file)\n",
    "        obj['labels'] = 'fake'\n",
    "        fake_data.append(obj)\n",
    "\n",
    "all_data = fake_data + real_data\n",
    "np.random.shuffle(all_data)\n",
    "buzzfeed_df = pd.DataFrame.from_dict(all_data)\n",
    "buzzfeed_df = buzzfeed_df[[\"title\", \"labels\"]]\n",
    "buzzfeed_df.rename(columns = {'title':'text'}, inplace = True)"
   ]
  },
  {
   "cell_type": "code",
   "execution_count": 22,
   "metadata": {},
   "outputs": [
    {
     "data": {
      "text/html": [
       "<div>\n",
       "<style scoped>\n",
       "    .dataframe tbody tr th:only-of-type {\n",
       "        vertical-align: middle;\n",
       "    }\n",
       "\n",
       "    .dataframe tbody tr th {\n",
       "        vertical-align: top;\n",
       "    }\n",
       "\n",
       "    .dataframe thead th {\n",
       "        text-align: right;\n",
       "    }\n",
       "</style>\n",
       "<table border=\"1\" class=\"dataframe\">\n",
       "  <thead>\n",
       "    <tr style=\"text-align: right;\">\n",
       "      <th></th>\n",
       "      <th>text</th>\n",
       "      <th>labels</th>\n",
       "    </tr>\n",
       "  </thead>\n",
       "  <tbody>\n",
       "    <tr>\n",
       "      <th>0</th>\n",
       "      <td>Pence gives no specifics on why Trump Foundati...</td>\n",
       "      <td>real</td>\n",
       "    </tr>\n",
       "    <tr>\n",
       "      <th>1</th>\n",
       "      <td>Bridgegate: Port Authority officials planned t...</td>\n",
       "      <td>real</td>\n",
       "    </tr>\n",
       "    <tr>\n",
       "      <th>2</th>\n",
       "      <td>The Pope Flat Out Called Fox News Type Journal...</td>\n",
       "      <td>fake</td>\n",
       "    </tr>\n",
       "    <tr>\n",
       "      <th>3</th>\n",
       "      <td>CHAOS! NC Protest MOB Ambushes Female Truck Dr...</td>\n",
       "      <td>real</td>\n",
       "    </tr>\n",
       "    <tr>\n",
       "      <th>4</th>\n",
       "      <td>SICK! Muslim Refugee Beats, Urinates On Pregna...</td>\n",
       "      <td>fake</td>\n",
       "    </tr>\n",
       "    <tr>\n",
       "      <th>...</th>\n",
       "      <td>...</td>\n",
       "      <td>...</td>\n",
       "    </tr>\n",
       "    <tr>\n",
       "      <th>165</th>\n",
       "      <td>Donald Trump retreats to friendly media ground</td>\n",
       "      <td>real</td>\n",
       "    </tr>\n",
       "    <tr>\n",
       "      <th>166</th>\n",
       "      <td>Clinton vs. Trump: The debate before the debate</td>\n",
       "      <td>real</td>\n",
       "    </tr>\n",
       "    <tr>\n",
       "      <th>167</th>\n",
       "      <td>Everything you need to know about Trump and Cl...</td>\n",
       "      <td>real</td>\n",
       "    </tr>\n",
       "    <tr>\n",
       "      <th>168</th>\n",
       "      <td>Californians Had Special Way to View the Eclip...</td>\n",
       "      <td>fake</td>\n",
       "    </tr>\n",
       "    <tr>\n",
       "      <th>169</th>\n",
       "      <td>Bobby Knight: Nobody can 'correct mistakes' li...</td>\n",
       "      <td>real</td>\n",
       "    </tr>\n",
       "  </tbody>\n",
       "</table>\n",
       "<p>170 rows × 2 columns</p>\n",
       "</div>"
      ],
      "text/plain": [
       "                                                  text labels\n",
       "0    Pence gives no specifics on why Trump Foundati...   real\n",
       "1    Bridgegate: Port Authority officials planned t...   real\n",
       "2    The Pope Flat Out Called Fox News Type Journal...   fake\n",
       "3    CHAOS! NC Protest MOB Ambushes Female Truck Dr...   real\n",
       "4    SICK! Muslim Refugee Beats, Urinates On Pregna...   fake\n",
       "..                                                 ...    ...\n",
       "165     Donald Trump retreats to friendly media ground   real\n",
       "166    Clinton vs. Trump: The debate before the debate   real\n",
       "167  Everything you need to know about Trump and Cl...   real\n",
       "168  Californians Had Special Way to View the Eclip...   fake\n",
       "169  Bobby Knight: Nobody can 'correct mistakes' li...   real\n",
       "\n",
       "[170 rows x 2 columns]"
      ]
     },
     "execution_count": 22,
     "metadata": {},
     "output_type": "execute_result"
    }
   ],
   "source": [
    "buzzfeed_df"
   ]
  },
  {
   "cell_type": "code",
   "execution_count": 23,
   "metadata": {},
   "outputs": [
    {
     "data": {
      "text/plain": [
       "labels\n",
       "real    90\n",
       "fake    80\n",
       "Name: count, dtype: int64"
      ]
     },
     "execution_count": 23,
     "metadata": {},
     "output_type": "execute_result"
    }
   ],
   "source": [
    "buzzfeed_df[\"labels\"].value_counts()"
   ]
  },
  {
   "cell_type": "code",
   "execution_count": 24,
   "metadata": {},
   "outputs": [
    {
     "data": {
      "text/plain": [
       "<Axes: >"
      ]
     },
     "execution_count": 24,
     "metadata": {},
     "output_type": "execute_result"
    },
    {
     "data": {
      "image/png": "[encoded data removed]",
      "text/plain": [
       "<Figure size 640x480 with 1 Axes>"
      ]
     },
     "metadata": {},
     "output_type": "display_data"
    }
   ],
   "source": [
    "buzzfeed_df[\"labels\"].hist()"
   ]
  },
  {
   "cell_type": "code",
   "execution_count": 5,
   "metadata": {},
   "outputs": [],
   "source": [
    "buzzfeed_df.to_csv(f\"{PREPROCESSED_DATA_PATH}buzzfeed.csv\", index=False, header=True)"
   ]
  },
  {
   "cell_type": "markdown",
   "metadata": {},
   "source": [
    "## Propaganda"
   ]
  },
  {
   "cell_type": "code",
   "execution_count": 3,
   "metadata": {},
   "outputs": [],
   "source": [
    "path = f'{RAW_DATA_PATH}propaganda/code/data/protechn_corpus_eval'\n",
    "\n",
    "def read_and_process_files(phase='test', save_path=PREPROCESSED_DATA_PATH):\n",
    "    full_path=\"{}/{}\".format(path, phase)\n",
    "\n",
    "    txt_onlyfiles = [f for f in listdir(full_path) if \".txt\" in f]\n",
    "    all_data = []\n",
    "\n",
    "    for idx, txt_path in enumerate(txt_onlyfiles):\n",
    "        try:\n",
    "            label_path_ = \"{}/{}\".format(full_path, txt_path.split('.')[0] + \".labels.tsv\")\n",
    "            labels = pd.read_csv(label_path_, sep='\\t')\n",
    "\n",
    "            with open(\"{}/{}\".format(full_path, txt_path), 'r') as txt_in_f:\n",
    "                text = txt_in_f.read()\n",
    "\n",
    "            indices = []\n",
    "            for label_row in labels.iterrows():\n",
    "                indices.append((label_row[1][2],label_row[1][3]))\n",
    "\n",
    "            indices = sorted(indices, key=lambda item: item[0]) \n",
    "            to_find_phrases = [text[s:e] for (s,e) in indices if len(text[s:e].strip()) > 3]\n",
    "            candidates = text.split(\".\")\n",
    "            candidate_idx, to_find_idx = 0, 0\n",
    "\n",
    "            found_og_sents = []\n",
    "            discard_sents = []\n",
    "            while candidate_idx < len(candidates) and to_find_idx < len(to_find_phrases):\n",
    "                if to_find_phrases[to_find_idx] in candidates[candidate_idx]:\n",
    "                    found_og_sents.append(candidates[candidate_idx])\n",
    "                    to_find_idx += 1\n",
    "                else:\n",
    "                    discard_sents.append(candidates[candidate_idx])\n",
    "                candidate_idx+=1\n",
    "            \n",
    "            propaganda_samples = [{'text': sent, 'labels': 'has_propaganda'} for sent in found_og_sents]\n",
    "            all_data.extend(propaganda_samples)\n",
    "\n",
    "            random.shuffle(discard_sents)\n",
    "            negative_samples = discard_sents[:len(found_og_sents)]\n",
    "            non_propaganda_samples = [{'text': sent, 'labels': 'no_propaganda'} for sent in negative_samples]\n",
    "            all_data.extend(non_propaganda_samples)\n",
    "        except:\n",
    "            continue\n",
    "\n",
    "    \n",
    "    np.random.shuffle(all_data)\n",
    "    return all_data"
   ]
  },
  {
   "cell_type": "code",
   "execution_count": 5,
   "metadata": {},
   "outputs": [],
   "source": [
    "propaganda_train = read_and_process_files('train')\n",
    "propaganda_dev = read_and_process_files('dev')\n",
    "propaganda_test = read_and_process_files('test')"
   ]
  },
  {
   "cell_type": "code",
   "execution_count": 6,
   "metadata": {},
   "outputs": [],
   "source": [
    "propaganda_df = pd.DataFrame.from_dict(propaganda_train+propaganda_dev+propaganda_test)"
   ]
  },
  {
   "cell_type": "code",
   "execution_count": 15,
   "metadata": {},
   "outputs": [
    {
     "data": {
      "text/html": [
       "<div>\n",
       "<style scoped>\n",
       "    .dataframe tbody tr th:only-of-type {\n",
       "        vertical-align: middle;\n",
       "    }\n",
       "\n",
       "    .dataframe tbody tr th {\n",
       "        vertical-align: top;\n",
       "    }\n",
       "\n",
       "    .dataframe thead th {\n",
       "        text-align: right;\n",
       "    }\n",
       "</style>\n",
       "<table border=\"1\" class=\"dataframe\">\n",
       "  <thead>\n",
       "    <tr style=\"text-align: right;\">\n",
       "      <th></th>\n",
       "      <th>text</th>\n",
       "      <th>labels</th>\n",
       "    </tr>\n",
       "  </thead>\n",
       "  <tbody>\n",
       "    <tr>\n",
       "      <th>0</th>\n",
       "      <td>”\\nAmong the measures taken by SSMU after the ...</td>\n",
       "      <td>no_propaganda</td>\n",
       "    </tr>\n",
       "    <tr>\n",
       "      <th>1</th>\n",
       "      <td>\\nDB: What would you say have been the contrib...</td>\n",
       "      <td>no_propaganda</td>\n",
       "    </tr>\n",
       "    <tr>\n",
       "      <th>2</th>\n",
       "      <td>\\nFarrakhan’s history of racially extreme comm...</td>\n",
       "      <td>has_propaganda</td>\n",
       "    </tr>\n",
       "    <tr>\n",
       "      <th>3</th>\n",
       "      <td></td>\n",
       "      <td>no_propaganda</td>\n",
       "    </tr>\n",
       "    <tr>\n",
       "      <th>4</th>\n",
       "      <td>\\nWhat started after the 2016 election as a re...</td>\n",
       "      <td>has_propaganda</td>\n",
       "    </tr>\n",
       "    <tr>\n",
       "      <th>...</th>\n",
       "      <td>...</td>\n",
       "      <td>...</td>\n",
       "    </tr>\n",
       "    <tr>\n",
       "      <th>1617</th>\n",
       "      <td>\\nTake a look, and as always, PJW is hilarious...</td>\n",
       "      <td>no_propaganda</td>\n",
       "    </tr>\n",
       "    <tr>\n",
       "      <th>1618</th>\n",
       "      <td>\"\\n\"There is simply no way of telling how much...</td>\n",
       "      <td>has_propaganda</td>\n",
       "    </tr>\n",
       "    <tr>\n",
       "      <th>1619</th>\n",
       "      <td>\\nThe incubation period is extremely short too...</td>\n",
       "      <td>has_propaganda</td>\n",
       "    </tr>\n",
       "    <tr>\n",
       "      <th>1620</th>\n",
       "      <td>\\nNo, you can't act like a child and keep your...</td>\n",
       "      <td>no_propaganda</td>\n",
       "    </tr>\n",
       "    <tr>\n",
       "      <th>1621</th>\n",
       "      <td>” Her comment came after another user pointed ...</td>\n",
       "      <td>has_propaganda</td>\n",
       "    </tr>\n",
       "  </tbody>\n",
       "</table>\n",
       "<p>1622 rows × 2 columns</p>\n",
       "</div>"
      ],
      "text/plain": [
       "                                                   text          labels\n",
       "0     ”\\nAmong the measures taken by SSMU after the ...   no_propaganda\n",
       "1     \\nDB: What would you say have been the contrib...   no_propaganda\n",
       "2     \\nFarrakhan’s history of racially extreme comm...  has_propaganda\n",
       "3                                                         no_propaganda\n",
       "4     \\nWhat started after the 2016 election as a re...  has_propaganda\n",
       "...                                                 ...             ...\n",
       "1617  \\nTake a look, and as always, PJW is hilarious...   no_propaganda\n",
       "1618  \"\\n\"There is simply no way of telling how much...  has_propaganda\n",
       "1619  \\nThe incubation period is extremely short too...  has_propaganda\n",
       "1620  \\nNo, you can't act like a child and keep your...   no_propaganda\n",
       "1621  ” Her comment came after another user pointed ...  has_propaganda\n",
       "\n",
       "[1622 rows x 2 columns]"
      ]
     },
     "execution_count": 15,
     "metadata": {},
     "output_type": "execute_result"
    }
   ],
   "source": [
    "propaganda_df"
   ]
  },
  {
   "cell_type": "code",
   "execution_count": 17,
   "metadata": {},
   "outputs": [
    {
     "data": {
      "text/plain": [
       "labels\n",
       "has_propaganda    816\n",
       "no_propaganda     806\n",
       "Name: count, dtype: int64"
      ]
     },
     "execution_count": 17,
     "metadata": {},
     "output_type": "execute_result"
    }
   ],
   "source": [
    "propaganda_df[\"labels\"].value_counts()"
   ]
  },
  {
   "cell_type": "code",
   "execution_count": 16,
   "metadata": {},
   "outputs": [
    {
     "data": {
      "text/plain": [
       "<Axes: >"
      ]
     },
     "execution_count": 16,
     "metadata": {},
     "output_type": "execute_result"
    },
    {
     "data": {
      "image/png": "[encoded data removed]",
      "text/plain": [
       "<Figure size 640x480 with 1 Axes>"
      ]
     },
     "metadata": {},
     "output_type": "display_data"
    }
   ],
   "source": [
    "propaganda_df[\"labels\"].hist()"
   ]
  },
  {
   "cell_type": "code",
   "execution_count": null,
   "metadata": {},
   "outputs": [],
   "source": [
    "propaganda_df.to_csv(f\"{PREPROCESSED_DATA_PATH}propaganda.csv\", index=False, header=True)"
   ]
  },
  {
   "cell_type": "markdown",
   "metadata": {},
   "source": [
    "## TwitterCovid"
   ]
  },
  {
   "cell_type": "code",
   "execution_count": 25,
   "metadata": {},
   "outputs": [],
   "source": [
    "twitter_covid_data_path = f'{RAW_DATA_PATH}twittercovid/data/English/covid19_infodemic_english_data.tsv'"
   ]
  },
  {
   "cell_type": "code",
   "execution_count": 26,
   "metadata": {},
   "outputs": [],
   "source": [
    "data_df = pd.read_csv(twitter_covid_data_path, sep='\\t')"
   ]
  },
  {
   "cell_type": "code",
   "execution_count": 27,
   "metadata": {},
   "outputs": [
    {
     "name": "stdout",
     "output_type": "stream",
     "text": [
      "data sizes: 504 305\n"
     ]
    }
   ],
   "source": [
    "q1_df = data_df.loc[:, 'text': 'q1_label']\n",
    "q2_df = data_df.loc[:, 'text': 'q2_label']\n",
    "\n",
    "# filter any NAN label rows\n",
    "q1_df = q1_df.dropna()\n",
    "q2_df = q2_df.dropna()\n",
    "\n",
    "print(\"data sizes:\", len(q1_df), len(q2_df))"
   ]
  },
  {
   "cell_type": "code",
   "execution_count": 28,
   "metadata": {},
   "outputs": [],
   "source": [
    "q1_df[\"labels\"] = q1_df[\"q1_label\"]\n",
    "twittercovidq1 = q1_df[[\"text\", \"labels\"]]"
   ]
  },
  {
   "cell_type": "code",
   "execution_count": 29,
   "metadata": {},
   "outputs": [
    {
     "data": {
      "text/plain": [
       "labels\n",
       "yes    305\n",
       "no     199\n",
       "Name: count, dtype: int64"
      ]
     },
     "execution_count": 29,
     "metadata": {},
     "output_type": "execute_result"
    }
   ],
   "source": [
    "twittercovidq1[\"labels\"].value_counts()"
   ]
  },
  {
   "cell_type": "code",
   "execution_count": 30,
   "metadata": {},
   "outputs": [],
   "source": [
    "label_map = {\n",
    "    \"1_no_definitely_contains_no_false_info\": \"no_false\",\n",
    "    \"2_no_probably_contains_no_false_info\": \"no_false\",\n",
    "    \"3_not_sure\": \"N/A\",\n",
    "    \"4_yes_probably_contains_false_info\": \"contains_false\",\n",
    "    \"5_yes_definitely_contains_false_info\": \"contains_false\",\n",
    "}\n",
    "\n",
    "new_data = []\n",
    "for item in q2_df.to_dict(\"records\"):\n",
    "    text_label = item['q2_label']\n",
    "    if text_label == \"3_not_sure\":\n",
    "        continue  # skip\n",
    "    else:\n",
    "        label = label_map[text_label]\n",
    "        text = item['text']\n",
    "        new_data.append({\"text\": text, \"labels\": label})"
   ]
  },
  {
   "cell_type": "code",
   "execution_count": 32,
   "metadata": {},
   "outputs": [],
   "source": [
    "twittercovidq2 = pd.DataFrame.from_dict(new_data)"
   ]
  },
  {
   "cell_type": "code",
   "execution_count": 33,
   "metadata": {},
   "outputs": [
    {
     "data": {
      "text/plain": [
       "labels\n",
       "no_false          223\n",
       "contains_false     37\n",
       "Name: count, dtype: int64"
      ]
     },
     "execution_count": 33,
     "metadata": {},
     "output_type": "execute_result"
    }
   ],
   "source": [
    "twittercovidq2[\"labels\"].value_counts()"
   ]
  },
  {
   "cell_type": "code",
   "execution_count": null,
   "metadata": {},
   "outputs": [],
   "source": [
    "twittercovidq1.to_csv(f\"{PREPROCESSED_DATA_PATH}twittercovidq1.csv\", index=False, header=True)\n",
    "twittercovidq2.to_csv(f\"{PREPROCESSED_DATA_PATH}twittercovidq2.csv\", index=False, header=True)"
   ]
  }
 ],
 "metadata": {
  "kernelspec": {
   "display_name": "atd",
   "language": "python",
   "name": "python3"
  },
  "language_info": {
   "codemirror_mode": {
    "name": "ipython",
    "version": 3
   },
   "file_extension": ".py",
   "mimetype": "text/x-python",
   "name": "python",
   "nbconvert_exporter": "python",
   "pygments_lexer": "ipython3",
   "version": "3.9.16"
  },
  "orig_nbformat": 4
 },
 "nbformat": 4,
 "nbformat_minor": 2
}
